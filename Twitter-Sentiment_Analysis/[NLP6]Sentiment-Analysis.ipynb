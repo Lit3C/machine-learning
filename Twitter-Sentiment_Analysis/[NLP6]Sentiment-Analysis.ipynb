{
 "cells": [
  {
   "cell_type": "markdown",
   "metadata": {},
   "source": [
    "# NLP 6: Sentiment analysis"
   ]
  },
  {
   "cell_type": "markdown",
   "metadata": {},
   "source": [
    "1.   Importe [**cet ensemble de données**](https://github.com/murpi/wilddata/raw/master/quests/tweets.zip) de tweets dans un DataFrame.\n",
    "2.   Conserve uniquement les tweets positifs et négatifs (donc tu exclus les `neutrals`). Quel est le pourcentage de tweets positifs/négatifs ?\n",
    "3.   Crée une fonction que tu appelleras `clean` qui prend pour paramètre une phrase (donc un texte `str`) et qui retourne un texte (`str`) de tokens après application d'un stemmer ou d'un lemmatizer, séparés par des espaces.\n",
    "Tu peux tester ta fonction avec cette phrase, elle doit retourner quelque chose ressemblant à ce résultat :\n",
    "```\n",
    "clean(\"You are better when I am well.\")\n",
    ">>> \"you be well when I be well .\"\n",
    "```\n",
    "4.   Récupère la liste des stopwords anglais depuis NLTK, et copie-la dans une liste `stopwordsenglish`. Complète ta fonction `clean` pour qu'elle supprime la ponctuation et les stopwords.\n",
    "5.   Applique cette fonction `clean` à la colonne text de ton DataFrame. Stocke le résultat dans une nouvelle colonne `clean` du DataFrame. (Le traitement peut durer 2 ou 3 minutes)\n",
    "Tu dois maintenant avoir un DataFrame qui ressemble à celui-ci (moins les pronoms, la ponctuation et peut-être d'autres mots en fonction des stopwords que tu as nettoyé) :\n",
    "![Screenshot](https://storage.googleapis.com/quest_editor_uploads/0OnLjWvjuJG3AHYyQdoss3KBYzznt5hS.png)\n",
    "6.   Copie la colonne `clean` dans une Serie `X`, et la colonne `sentiment` dans une Serie `y`. Applique un train-test split avec la taille du jeu d'entrainement à `0.75` avec le `random_state = 32`.\n",
    "7.   Applique un `CountVectorizer` et entraine des modèles de classification.\n",
    "8.   Applique un `TfidfVectorizer` et entraine des modèles de classification.\n",
    "9.   Compare les scores, quels paramètres permettent d'avoir les meilleurs scores ?\n",
    "Bonus : maintenant c'est à toi d'améliorer ton modèle :\n",
    "\n",
    "En cherchant des paramètres de modèles : par gridsearch et crossvalidation par exemple ;\n",
    "En changeant la préparation du texte : par exemple certaines ponctuations peuvent aider le modèle, le point d'exclamation notamment."
   ]
  },
  {
   "cell_type": "code",
   "execution_count": null,
   "metadata": {},
   "outputs": [],
   "source": []
  }
 ],
 "metadata": {
  "language_info": {
   "name": "python"
  }
 },
 "nbformat": 4,
 "nbformat_minor": 2
}
