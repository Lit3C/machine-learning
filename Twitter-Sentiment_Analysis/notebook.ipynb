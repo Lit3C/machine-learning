{
 "cells": [
  {
   "cell_type": "markdown",
   "metadata": {},
   "source": [
    "# NLP 4 : Bag of Words"
   ]
  },
  {
   "cell_type": "markdown",
   "metadata": {},
   "source": [
    "Entraîne-toi à classifier des tweets pour dire s'ils sont positifs ou négatifs. Ca pourrait être un outil très utile pour optimiser le travail d'un community manager.\n",
    "\n",
    "1.   Importe [**cet ensemble de données**](https://https://raw.githubusercontent.com/Lit3C/machine-learning/main/Twitter-Sentiment_Analysis/train.csv) de tweets dans un DataFrame.\n",
    "2.   Ne garde que les tweets positifs et négatifs (tu excluras donc les `neutral`). Quel est le pourcentage de tweets positifs/négatifs ?\n",
    "3.   Copie la colonne `text` dans une Série `X`, et la colonne `sentiment` dans une Série `y`. Applique un train test split avec le `random_state = 32` et un `train_size` de 0.75.\n",
    "4.   Crée un modèle `vectorizer` avec scikit-learn en utilisant la méthode `Countvectorizer`. Entraîne ton modèle sur `X_train`, puis crée une matrice de features `X_train_CV`. Crée la matrice `X_test_CV` sans ré-entraîner le modèle. Le format de la matrice `X_test_CV` doit être `4091x15806` avec `44633 stored elements`.\n",
    "5.   Entraîne maintenant une régression logistique avec les paramètres par défaut. Tu devrais obtenir les résultats suivants : `0.966` pour le test d'entraînement, et `0.877` pour l'ensemble de test.\n",
    "6.   Étape bonus : essaye d'afficher 10 tweets qui ont été mal prédits (faux positifs ou faux négatifs). Aurais-tu fait mieux que l'algorithme ?"
   ]
  },
  {
   "cell_type": "markdown",
   "metadata": {},
   "source": [
    "## Import"
   ]
  },
  {
   "cell_type": "code",
   "execution_count": null,
   "metadata": {},
   "outputs": [],
   "source": []
  }
 ],
 "metadata": {
  "language_info": {
   "name": "python"
  }
 },
 "nbformat": 4,
 "nbformat_minor": 2
}
